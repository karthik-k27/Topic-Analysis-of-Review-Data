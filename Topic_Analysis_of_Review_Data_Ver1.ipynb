{
  "nbformat": 4,
  "nbformat_minor": 0,
  "metadata": {
    "kernelspec": {
      "display_name": "Python 3",
      "language": "python",
      "name": "python3"
    },
    "language_info": {
      "codemirror_mode": {
        "name": "ipython",
        "version": 3
      },
      "file_extension": ".py",
      "mimetype": "text/x-python",
      "name": "python",
      "nbconvert_exporter": "python",
      "pygments_lexer": "ipython3",
      "version": "3.7.9"
    },
    "colab": {
      "name": "Topic Analysis of Review Data-Ver1.ipynb",
      "provenance": [],
      "toc_visible": true,
      "include_colab_link": true
    }
  },
  "cells": [
    {
      "cell_type": "markdown",
      "metadata": {
        "id": "view-in-github",
        "colab_type": "text"
      },
      "source": [
        "<a href=\"https://colab.research.google.com/github/karthik-k27/Topic-Analysis-of-Review-Data/blob/main/Topic_Analysis_of_Review_Data_Ver1.ipynb\" target=\"_parent\"><img src=\"https://colab.research.google.com/assets/colab-badge.svg\" alt=\"Open In Colab\"/></a>"
      ]
    },
    {
      "cell_type": "markdown",
      "metadata": {
        "id": "Sxv340yM3LM5"
      },
      "source": [
        "# DESCRIPTION\n",
        "\n",
        "### Help a leading mobile brand understand the voice of the customer by analyzing the reviews of their product on Amazon and the topics that customers are talking about. You will perform topic modeling on specific parts of speech. You’ll finally interpret the emerging topics.\n",
        "\n",
        "# Problem Statement: \n",
        "\n",
        "###  A popular mobile phone brand, Lenovo has launched their budget smartphone in the Indian market. The client wants to understand the VOC (voice of the customer) on the product. This will be useful to not just evaluate the current product, but to also get some direction for developing the product pipeline. The client is particularly interested in the different aspects that customers care about. Product reviews by customers on a leading e-commerce site should provide a good view."
      ]
    },
    {
      "cell_type": "code",
      "metadata": {
        "id": "tR9PbWME3LM5"
      },
      "source": [
        "# importing libraries\n",
        "import pandas as pd\n",
        "import numpy as np\n",
        "import nltk"
      ],
      "execution_count": null,
      "outputs": []
    },
    {
      "cell_type": "code",
      "metadata": {
        "colab": {
          "base_uri": "https://localhost:8080/",
          "height": 204
        },
        "id": "G8iAOkBz3LM6",
        "outputId": "937ac082-86b5-49d2-e577-e242f52d669a"
      },
      "source": [
        "# importing datasets\n",
        "ds = pd.read_csv(\"K8 Reviews v0.2.csv\")\n",
        "ds.head()"
      ],
      "execution_count": null,
      "outputs": [
        {
          "output_type": "execute_result",
          "data": {
            "text/html": [
              "<div>\n",
              "<style scoped>\n",
              "    .dataframe tbody tr th:only-of-type {\n",
              "        vertical-align: middle;\n",
              "    }\n",
              "\n",
              "    .dataframe tbody tr th {\n",
              "        vertical-align: top;\n",
              "    }\n",
              "\n",
              "    .dataframe thead th {\n",
              "        text-align: right;\n",
              "    }\n",
              "</style>\n",
              "<table border=\"1\" class=\"dataframe\">\n",
              "  <thead>\n",
              "    <tr style=\"text-align: right;\">\n",
              "      <th></th>\n",
              "      <th>sentiment</th>\n",
              "      <th>review</th>\n",
              "    </tr>\n",
              "  </thead>\n",
              "  <tbody>\n",
              "    <tr>\n",
              "      <th>0</th>\n",
              "      <td>1</td>\n",
              "      <td>Good but need updates and improvements</td>\n",
              "    </tr>\n",
              "    <tr>\n",
              "      <th>1</th>\n",
              "      <td>0</td>\n",
              "      <td>Worst mobile i have bought ever, Battery is dr...</td>\n",
              "    </tr>\n",
              "    <tr>\n",
              "      <th>2</th>\n",
              "      <td>1</td>\n",
              "      <td>when I will get my 10% cash back.... its alrea...</td>\n",
              "    </tr>\n",
              "    <tr>\n",
              "      <th>3</th>\n",
              "      <td>1</td>\n",
              "      <td>Good</td>\n",
              "    </tr>\n",
              "    <tr>\n",
              "      <th>4</th>\n",
              "      <td>0</td>\n",
              "      <td>The worst phone everThey have changed the last...</td>\n",
              "    </tr>\n",
              "  </tbody>\n",
              "</table>\n",
              "</div>"
            ],
            "text/plain": [
              "   sentiment                                             review\n",
              "0          1             Good but need updates and improvements\n",
              "1          0  Worst mobile i have bought ever, Battery is dr...\n",
              "2          1  when I will get my 10% cash back.... its alrea...\n",
              "3          1                                               Good\n",
              "4          0  The worst phone everThey have changed the last..."
            ]
          },
          "metadata": {
            "tags": []
          },
          "execution_count": 2
        }
      ]
    },
    {
      "cell_type": "code",
      "metadata": {
        "colab": {
          "base_uri": "https://localhost:8080/"
        },
        "id": "hoHZno0r3LM8",
        "outputId": "baa52833-b286-46c7-9833-6b211325af3e"
      },
      "source": [
        "ds.shape"
      ],
      "execution_count": null,
      "outputs": [
        {
          "output_type": "execute_result",
          "data": {
            "text/plain": [
              "(14675, 2)"
            ]
          },
          "metadata": {
            "tags": []
          },
          "execution_count": 3
        }
      ]
    },
    {
      "cell_type": "code",
      "metadata": {
        "id": "_-a9dv0f3LM8"
      },
      "source": [
        "# Splitting the dataset into training and testing\n",
        "from sklearn.model_selection import train_test_split\n",
        "ds_train,ds_test=train_test_split(ds,test_size=0.2,random_state=45)\n"
      ],
      "execution_count": null,
      "outputs": []
    },
    {
      "cell_type": "code",
      "metadata": {
        "colab": {
          "base_uri": "https://localhost:8080/"
        },
        "id": "USBQi7823LM8",
        "outputId": "0b1dc40e-0bf5-41e8-be3a-fda37c51f0ac"
      },
      "source": [
        "#Normalizing the review texts\n",
        "reviews = list(ds.iloc[:,1])\n",
        "sentiments = list(ds.iloc[:,0])\n",
        "reviews[0:5]"
      ],
      "execution_count": null,
      "outputs": [
        {
          "output_type": "execute_result",
          "data": {
            "text/plain": [
              "['Good but need updates and improvements',\n",
              " \"Worst mobile i have bought ever, Battery is draining like hell, backup is only 6 to 7 hours with internet uses, even if I put mobile idle its getting discharged.This is biggest lie from Amazon & Lenove which is not at all expected, they are making full by saying that battery is 4000MAH & booster charger is fake, it takes at least 4 to 5 hours to be fully charged.Don't know how Lenovo will survive by making full of us.Please don;t go for this else you will regret like me.\",\n",
              " 'when I will get my 10% cash back.... its already 15 January..',\n",
              " 'Good',\n",
              " 'The worst phone everThey have changed the last phone but the problem is still same and the amazon is not returning the phone .Highly disappointing of amazon']"
            ]
          },
          "metadata": {
            "tags": []
          },
          "execution_count": 5
        }
      ]
    },
    {
      "cell_type": "code",
      "metadata": {
        "colab": {
          "base_uri": "https://localhost:8080/",
          "height": 69
        },
        "id": "L899-zKF3LM8",
        "outputId": "96f7ee8f-f8e2-4ebb-a075-f45776da7d9a"
      },
      "source": [
        "'''\n",
        "#Punctuation removal\n",
        "import re, string\n",
        "nopunc_reviews=[]\n",
        "for i in reviews:\n",
        "    result = re.sub('[%s]' % re.escape(string.punctuation),' ', i)\n",
        "    nopunc_reviews.append(result)\n",
        "\n",
        "    \n",
        "print(len(nopunc_reviews))\n",
        "print(nopunc_reviews[0:4])\n",
        "print(result[0:4])\n",
        "'''"
      ],
      "execution_count": null,
      "outputs": [
        {
          "output_type": "execute_result",
          "data": {
            "application/vnd.google.colaboratory.intrinsic+json": {
              "type": "string"
            },
            "text/plain": [
              "\"\\n#Punctuation removal\\nimport re, string\\nnopunc_reviews=[]\\nfor i in reviews:\\n    result = re.sub('[%s]' % re.escape(string.punctuation),' ', i)\\n    nopunc_reviews.append(result)\\n\\n    \\nprint(len(nopunc_reviews))\\nprint(nopunc_reviews[0:4])\\nprint(result[0:4])\\n\""
            ]
          },
          "metadata": {
            "tags": []
          },
          "execution_count": 6
        }
      ]
    },
    {
      "cell_type": "code",
      "metadata": {
        "colab": {
          "base_uri": "https://localhost:8080/"
        },
        "id": "7DNIsed83LM8",
        "outputId": "01ab115f-7896-4617-e83f-26907e6e1f0c"
      },
      "source": [
        "#Tokenization\n",
        "import nltk\n",
        "nltk.download('punkt')\n",
        "from nltk.tokenize import word_tokenize\n",
        "token1 = word_tokenize(reviews[0])\n",
        "token1"
      ],
      "execution_count": null,
      "outputs": [
        {
          "output_type": "stream",
          "text": [
            "[nltk_data] Downloading package punkt to /root/nltk_data...\n",
            "[nltk_data]   Unzipping tokenizers/punkt.zip.\n"
          ],
          "name": "stdout"
        },
        {
          "output_type": "execute_result",
          "data": {
            "text/plain": [
              "['Good', 'but', 'need', 'updates', 'and', 'improvements']"
            ]
          },
          "metadata": {
            "tags": []
          },
          "execution_count": 8
        }
      ]
    },
    {
      "cell_type": "code",
      "metadata": {
        "colab": {
          "base_uri": "https://localhost:8080/"
        },
        "id": "LJLgrUOq3LM9",
        "outputId": "7130e2da-b0bb-4ff7-830a-f7cc770fa105"
      },
      "source": [
        "tokens=[]\n",
        "\n",
        "for token in reviews:\n",
        "    tokens.append(word_tokenize(token))\n",
        "\n",
        "print(tokens[0:4])"
      ],
      "execution_count": null,
      "outputs": [
        {
          "output_type": "stream",
          "text": [
            "[['Good', 'but', 'need', 'updates', 'and', 'improvements'], ['Worst', 'mobile', 'i', 'have', 'bought', 'ever', ',', 'Battery', 'is', 'draining', 'like', 'hell', ',', 'backup', 'is', 'only', '6', 'to', '7', 'hours', 'with', 'internet', 'uses', ',', 'even', 'if', 'I', 'put', 'mobile', 'idle', 'its', 'getting', 'discharged.This', 'is', 'biggest', 'lie', 'from', 'Amazon', '&', 'Lenove', 'which', 'is', 'not', 'at', 'all', 'expected', ',', 'they', 'are', 'making', 'full', 'by', 'saying', 'that', 'battery', 'is', '4000MAH', '&', 'booster', 'charger', 'is', 'fake', ',', 'it', 'takes', 'at', 'least', '4', 'to', '5', 'hours', 'to', 'be', 'fully', 'charged.Do', \"n't\", 'know', 'how', 'Lenovo', 'will', 'survive', 'by', 'making', 'full', 'of', 'us.Please', 'don', ';', 't', 'go', 'for', 'this', 'else', 'you', 'will', 'regret', 'like', 'me', '.'], ['when', 'I', 'will', 'get', 'my', '10', '%', 'cash', 'back', '...', '.', 'its', 'already', '15', 'January..'], ['Good']]\n"
          ],
          "name": "stdout"
        }
      ]
    },
    {
      "cell_type": "code",
      "metadata": {
        "colab": {
          "base_uri": "https://localhost:8080/"
        },
        "id": "NHc_yr5h3LNA",
        "outputId": "1616836a-d9a3-4768-e0f7-8aa98bfbfb30"
      },
      "source": [
        "#POS tagging\n",
        "import nltk\n",
        "nltk.download('averaged_perceptron_tagger')\n",
        "pos_tokens=[]\n",
        "\n",
        "for tag in tokens:\n",
        "    pos_tokens.append(nltk.pos_tag(tag))\n",
        "\n",
        "print(pos_tokens[0:4])\n"
      ],
      "execution_count": null,
      "outputs": [
        {
          "output_type": "stream",
          "text": [
            "[nltk_data] Downloading package averaged_perceptron_tagger to\n",
            "[nltk_data]     /root/nltk_data...\n",
            "[nltk_data]   Unzipping taggers/averaged_perceptron_tagger.zip.\n",
            "[[('Good', 'JJ'), ('but', 'CC'), ('need', 'VBP'), ('updates', 'NNS'), ('and', 'CC'), ('improvements', 'NNS')], [('Worst', 'NNP'), ('mobile', 'NN'), ('i', 'NN'), ('have', 'VBP'), ('bought', 'VBN'), ('ever', 'RB'), (',', ','), ('Battery', 'NNP'), ('is', 'VBZ'), ('draining', 'VBG'), ('like', 'IN'), ('hell', 'NN'), (',', ','), ('backup', 'NN'), ('is', 'VBZ'), ('only', 'RB'), ('6', 'CD'), ('to', 'TO'), ('7', 'CD'), ('hours', 'NNS'), ('with', 'IN'), ('internet', 'JJ'), ('uses', 'NNS'), (',', ','), ('even', 'RB'), ('if', 'IN'), ('I', 'PRP'), ('put', 'VBP'), ('mobile', 'JJ'), ('idle', 'NN'), ('its', 'PRP$'), ('getting', 'VBG'), ('discharged.This', 'NN'), ('is', 'VBZ'), ('biggest', 'JJS'), ('lie', 'NN'), ('from', 'IN'), ('Amazon', 'NNP'), ('&', 'CC'), ('Lenove', 'NNP'), ('which', 'WDT'), ('is', 'VBZ'), ('not', 'RB'), ('at', 'IN'), ('all', 'DT'), ('expected', 'VBN'), (',', ','), ('they', 'PRP'), ('are', 'VBP'), ('making', 'VBG'), ('full', 'JJ'), ('by', 'IN'), ('saying', 'VBG'), ('that', 'DT'), ('battery', 'NN'), ('is', 'VBZ'), ('4000MAH', 'CD'), ('&', 'CC'), ('booster', 'JJR'), ('charger', 'NN'), ('is', 'VBZ'), ('fake', 'JJ'), (',', ','), ('it', 'PRP'), ('takes', 'VBZ'), ('at', 'IN'), ('least', 'JJS'), ('4', 'CD'), ('to', 'TO'), ('5', 'CD'), ('hours', 'NNS'), ('to', 'TO'), ('be', 'VB'), ('fully', 'RB'), ('charged.Do', 'VBP'), (\"n't\", 'RB'), ('know', 'VB'), ('how', 'WRB'), ('Lenovo', 'NNP'), ('will', 'MD'), ('survive', 'VB'), ('by', 'IN'), ('making', 'VBG'), ('full', 'JJ'), ('of', 'IN'), ('us.Please', 'JJ'), ('don', 'NN'), (';', ':'), ('t', 'CC'), ('go', 'VB'), ('for', 'IN'), ('this', 'DT'), ('else', 'JJ'), ('you', 'PRP'), ('will', 'MD'), ('regret', 'VB'), ('like', 'IN'), ('me', 'PRP'), ('.', '.')], [('when', 'WRB'), ('I', 'PRP'), ('will', 'MD'), ('get', 'VB'), ('my', 'PRP$'), ('10', 'CD'), ('%', 'NN'), ('cash', 'NN'), ('back', 'RB'), ('...', ':'), ('.', '.'), ('its', 'PRP$'), ('already', 'RB'), ('15', 'CD'), ('January..', 'NNS')], [('Good', 'JJ')]]\n"
          ],
          "name": "stdout"
        }
      ]
    },
    {
      "cell_type": "markdown",
      "metadata": {
        "id": "bgLycCh93LNA"
      },
      "source": [
        "## Topic Modeling"
      ]
    },
    {
      "cell_type": "code",
      "metadata": {
        "colab": {
          "base_uri": "https://localhost:8080/"
        },
        "id": "K4cHqBSa3LNA",
        "outputId": "61fba380-d18b-4aae-c5ea-654ef346f4ac"
      },
      "source": [
        "for word,pos in pos_tokens[0]:\n",
        "    if (pos == 'NN' or pos == 'NNP' or pos == 'NNS' or pos == 'NNPS'):\n",
        "        print(word,pos)"
      ],
      "execution_count": null,
      "outputs": [
        {
          "output_type": "stream",
          "text": [
            "updates NNS\n",
            "improvements NNS\n"
          ],
          "name": "stdout"
        }
      ]
    },
    {
      "cell_type": "code",
      "metadata": {
        "colab": {
          "base_uri": "https://localhost:8080/"
        },
        "id": "ZHrtDWtk3LNA",
        "outputId": "7f640773-c595-4c33-d976-190a506bd6b9"
      },
      "source": [
        "test=[]\n",
        "for word,pos in pos_tokens[1]:\n",
        "    test.append(word)\n",
        "\n",
        "print(test)"
      ],
      "execution_count": null,
      "outputs": [
        {
          "output_type": "stream",
          "text": [
            "['Worst', 'mobile', 'i', 'have', 'bought', 'ever', ',', 'Battery', 'is', 'draining', 'like', 'hell', ',', 'backup', 'is', 'only', '6', 'to', '7', 'hours', 'with', 'internet', 'uses', ',', 'even', 'if', 'I', 'put', 'mobile', 'idle', 'its', 'getting', 'discharged.This', 'is', 'biggest', 'lie', 'from', 'Amazon', '&', 'Lenove', 'which', 'is', 'not', 'at', 'all', 'expected', ',', 'they', 'are', 'making', 'full', 'by', 'saying', 'that', 'battery', 'is', '4000MAH', '&', 'booster', 'charger', 'is', 'fake', ',', 'it', 'takes', 'at', 'least', '4', 'to', '5', 'hours', 'to', 'be', 'fully', 'charged.Do', \"n't\", 'know', 'how', 'Lenovo', 'will', 'survive', 'by', 'making', 'full', 'of', 'us.Please', 'don', ';', 't', 'go', 'for', 'this', 'else', 'you', 'will', 'regret', 'like', 'me', '.']\n"
          ],
          "name": "stdout"
        }
      ]
    },
    {
      "cell_type": "code",
      "metadata": {
        "colab": {
          "base_uri": "https://localhost:8080/"
        },
        "id": "-_OE_32B3LNA",
        "outputId": "636e8ee7-7edf-43a6-db33-2e6a70dd8691"
      },
      "source": [
        "for word,pos in pos_tokens[0]:\n",
        "    print(word,pos)"
      ],
      "execution_count": null,
      "outputs": [
        {
          "output_type": "stream",
          "text": [
            "Good JJ\n",
            "but CC\n",
            "need VBP\n",
            "updates NNS\n",
            "and CC\n",
            "improvements NNS\n"
          ],
          "name": "stdout"
        }
      ]
    },
    {
      "cell_type": "code",
      "metadata": {
        "colab": {
          "base_uri": "https://localhost:8080/"
        },
        "id": "rn-O93xu3LNA",
        "outputId": "b723c20f-8d16-40f9-9ee0-3196f483ad1b"
      },
      "source": [
        "#Extracting Nouns\n",
        "nouns =[]\n",
        "noun_tokens=[]\n",
        "\n",
        "index=[]\n",
        "temp =0\n",
        "count=0\n",
        "i=0\n",
        "while i<len(pos_tokens):\n",
        "    \n",
        "    for word,pos in pos_tokens[i]:\n",
        "    \n",
        "        if (pos == 'NN' or pos == 'NNP' or pos == 'NNS' or pos == 'NNPS'):\n",
        "            nouns.append(word)\n",
        "            count+=1\n",
        "    \n",
        "    noun_tokens.append(nouns[temp:count])\n",
        "    temp=count\n",
        "    \n",
        "    i+=1\n",
        "    \n",
        "\n",
        "      \n",
        "nouns[0:4] "
      ],
      "execution_count": null,
      "outputs": [
        {
          "output_type": "execute_result",
          "data": {
            "text/plain": [
              "['updates', 'improvements', 'Worst', 'mobile']"
            ]
          },
          "metadata": {
            "tags": []
          },
          "execution_count": 15
        }
      ]
    },
    {
      "cell_type": "code",
      "metadata": {
        "colab": {
          "base_uri": "https://localhost:8080/"
        },
        "id": "6XtI6Koa3LNA",
        "outputId": "e11528ed-26ec-4493-fd10-01c991a68e4b"
      },
      "source": [
        "print(len(pos_tokens))\n",
        "\n",
        "print(nouns[0:20])\n",
        "\n",
        "print(reviews[0:5])"
      ],
      "execution_count": null,
      "outputs": [
        {
          "output_type": "stream",
          "text": [
            "14675\n",
            "['updates', 'improvements', 'Worst', 'mobile', 'i', 'Battery', 'hell', 'backup', 'hours', 'uses', 'idle', 'discharged.This', 'lie', 'Amazon', 'Lenove', 'battery', 'charger', 'hours', 'Lenovo', 'don']\n",
            "['Good but need updates and improvements', \"Worst mobile i have bought ever, Battery is draining like hell, backup is only 6 to 7 hours with internet uses, even if I put mobile idle its getting discharged.This is biggest lie from Amazon & Lenove which is not at all expected, they are making full by saying that battery is 4000MAH & booster charger is fake, it takes at least 4 to 5 hours to be fully charged.Don't know how Lenovo will survive by making full of us.Please don;t go for this else you will regret like me.\", 'when I will get my 10% cash back.... its already 15 January..', 'Good', 'The worst phone everThey have changed the last phone but the problem is still same and the amazon is not returning the phone .Highly disappointing of amazon']\n"
          ],
          "name": "stdout"
        }
      ]
    },
    {
      "cell_type": "code",
      "metadata": {
        "colab": {
          "base_uri": "https://localhost:8080/"
        },
        "id": "VPYl4E7L3LNA",
        "outputId": "c9721c3a-312d-4528-886b-0af0e2c736b1"
      },
      "source": [
        "print(len(noun_tokens), len(pos_tokens))\n",
        "noun_tokens[0:3]"
      ],
      "execution_count": null,
      "outputs": [
        {
          "output_type": "stream",
          "text": [
            "14675 14675\n"
          ],
          "name": "stdout"
        },
        {
          "output_type": "execute_result",
          "data": {
            "text/plain": [
              "[['updates', 'improvements'],\n",
              " ['Worst',\n",
              "  'mobile',\n",
              "  'i',\n",
              "  'Battery',\n",
              "  'hell',\n",
              "  'backup',\n",
              "  'hours',\n",
              "  'uses',\n",
              "  'idle',\n",
              "  'discharged.This',\n",
              "  'lie',\n",
              "  'Amazon',\n",
              "  'Lenove',\n",
              "  'battery',\n",
              "  'charger',\n",
              "  'hours',\n",
              "  'Lenovo',\n",
              "  'don'],\n",
              " ['%', 'cash', 'January..']]"
            ]
          },
          "metadata": {
            "tags": []
          },
          "execution_count": 17
        }
      ]
    },
    {
      "cell_type": "markdown",
      "metadata": {
        "id": "M6IIGiqf3LNB"
      },
      "source": [
        "## Lemmatize"
      ]
    },
    {
      "cell_type": "code",
      "metadata": {
        "colab": {
          "base_uri": "https://localhost:8080/"
        },
        "id": "GHmQ2Noy3LNB",
        "outputId": "efd716e0-05d9-4881-aa19-2d6b405dcdeb"
      },
      "source": [
        "pos_tokens[0]"
      ],
      "execution_count": null,
      "outputs": [
        {
          "output_type": "execute_result",
          "data": {
            "text/plain": [
              "[('Good', 'JJ'),\n",
              " ('but', 'CC'),\n",
              " ('need', 'VBP'),\n",
              " ('updates', 'NNS'),\n",
              " ('and', 'CC'),\n",
              " ('improvements', 'NNS')]"
            ]
          },
          "metadata": {
            "tags": []
          },
          "execution_count": 18
        }
      ]
    },
    {
      "cell_type": "code",
      "metadata": {
        "colab": {
          "base_uri": "https://localhost:8080/"
        },
        "id": "lISbPdY73LNB",
        "outputId": "0d810c43-0a4d-4c93-a948-034efd6a9048"
      },
      "source": [
        "\n",
        "import nltk\n",
        "nltk.download('wordnet')\n",
        "from nltk.stem import WordNetLemmatizer, SnowballStemmer\n",
        "lemmatizer=WordNetLemmatizer()\n",
        "stemmer=SnowballStemmer(\"english\")\n",
        "\n",
        "lemma_stem = []\n",
        "lemst_tokens=[]\n",
        "temp=0\n",
        "count=0\n",
        "\n",
        "i=0\n",
        "while i < (len(noun_tokens)):\n",
        "    for j in noun_tokens[i]:\n",
        "        lemma_stem.append(stemmer.stem(lemmatizer.lemmatize(j,pos=\"n\")))\n",
        "        count+=1\n",
        "        \n",
        "    lemst_tokens.append(lemma_stem[temp:count])\n",
        "    temp=count\n",
        "    i+=1\n",
        "\n",
        "\n",
        "print(len(lemma_stem))\n",
        "print(lemma_stem[0:20])"
      ],
      "execution_count": null,
      "outputs": [
        {
          "output_type": "stream",
          "text": [
            "[nltk_data] Downloading package wordnet to /root/nltk_data...\n",
            "[nltk_data]   Unzipping corpora/wordnet.zip.\n",
            "96760\n",
            "['updat', 'improv', 'worst', 'mobil', 'i', 'batteri', 'hell', 'backup', 'hour', 'us', 'idl', 'discharged.thi', 'lie', 'amazon', 'lenov', 'batteri', 'charger', 'hour', 'lenovo', 'don']\n"
          ],
          "name": "stdout"
        }
      ]
    },
    {
      "cell_type": "code",
      "metadata": {
        "colab": {
          "base_uri": "https://localhost:8080/"
        },
        "id": "PTBoEPA-3LNB",
        "outputId": "f5e4827e-a479-406f-872a-797a0df04b1b"
      },
      "source": [
        "print(len(lemst_tokens))\n",
        "print(lemst_tokens[0:4])"
      ],
      "execution_count": null,
      "outputs": [
        {
          "output_type": "stream",
          "text": [
            "14675\n",
            "[['updat', 'improv'], ['worst', 'mobil', 'i', 'batteri', 'hell', 'backup', 'hour', 'us', 'idl', 'discharged.thi', 'lie', 'amazon', 'lenov', 'batteri', 'charger', 'hour', 'lenovo', 'don'], ['%', 'cash', 'january..'], []]\n"
          ],
          "name": "stdout"
        }
      ]
    },
    {
      "cell_type": "markdown",
      "metadata": {
        "id": "8J1-Hzn83LNB"
      },
      "source": [
        "## Stopwords"
      ]
    },
    {
      "cell_type": "code",
      "metadata": {
        "colab": {
          "base_uri": "https://localhost:8080/"
        },
        "id": "JzDPSLkD3LNB",
        "outputId": "bd61eb62-c5a0-4571-de55-a2c1e0c84c78"
      },
      "source": [
        "import nltk\n",
        "nltk.download('stopwords')\n",
        "from nltk.corpus import stopwords\n",
        "stop_words = set(stopwords.words(\"english\"))\n",
        "\n",
        "\n",
        "filtered_tokens=[]\n",
        "\n",
        "result=[]\n",
        "for i in lemst_tokens:\n",
        "    output = [j for j in i if not j in stop_words]\n",
        "    filtered_tokens.append(output)\n",
        "    "
      ],
      "execution_count": null,
      "outputs": [
        {
          "output_type": "stream",
          "text": [
            "[nltk_data] Downloading package stopwords to /root/nltk_data...\n",
            "[nltk_data]   Unzipping corpora/stopwords.zip.\n"
          ],
          "name": "stdout"
        }
      ]
    },
    {
      "cell_type": "code",
      "metadata": {
        "id": "QsmJjE8O3LNB"
      },
      "source": [
        "output = [j for j in lemst_tokens[0] if not j in stop_words]"
      ],
      "execution_count": null,
      "outputs": []
    },
    {
      "cell_type": "code",
      "metadata": {
        "colab": {
          "base_uri": "https://localhost:8080/"
        },
        "id": "iJvxP9Jn3LNB",
        "outputId": "6567e7c3-da76-4e86-d940-f58573f640f0"
      },
      "source": [
        "output"
      ],
      "execution_count": null,
      "outputs": [
        {
          "output_type": "execute_result",
          "data": {
            "text/plain": [
              "['updat', 'improv']"
            ]
          },
          "metadata": {
            "tags": []
          },
          "execution_count": 28
        }
      ]
    },
    {
      "cell_type": "code",
      "metadata": {
        "colab": {
          "base_uri": "https://localhost:8080/"
        },
        "id": "yfY0pWGY3LNB",
        "outputId": "bf81a96e-593d-4690-bd7e-9f78b2c12b17"
      },
      "source": [
        "print(filtered_tokens[0:4])"
      ],
      "execution_count": null,
      "outputs": [
        {
          "output_type": "stream",
          "text": [
            "[['updat', 'improv'], ['worst', 'mobil', 'batteri', 'hell', 'backup', 'hour', 'us', 'idl', 'discharged.thi', 'lie', 'amazon', 'lenov', 'batteri', 'charger', 'hour', 'lenovo'], ['%', 'cash', 'january..'], []]\n"
          ],
          "name": "stdout"
        }
      ]
    },
    {
      "cell_type": "code",
      "metadata": {
        "colab": {
          "base_uri": "https://localhost:8080/"
        },
        "id": "mFmXwuEL3LNB",
        "outputId": "6e8ab546-ef5e-49b5-f9f1-b3833860e0cb"
      },
      "source": [
        "len(filtered_tokens)"
      ],
      "execution_count": null,
      "outputs": [
        {
          "output_type": "execute_result",
          "data": {
            "text/plain": [
              "14675"
            ]
          },
          "metadata": {
            "tags": []
          },
          "execution_count": 30
        }
      ]
    },
    {
      "cell_type": "markdown",
      "metadata": {
        "id": "dIofUEyU3LNB"
      },
      "source": [
        "## LDA"
      ]
    },
    {
      "cell_type": "code",
      "metadata": {
        "id": "OQJKkToP3LNB"
      },
      "source": [
        "import gensim\n",
        "dictionary = gensim.corpora.Dictionary(filtered_tokens)"
      ],
      "execution_count": null,
      "outputs": []
    },
    {
      "cell_type": "code",
      "metadata": {
        "colab": {
          "base_uri": "https://localhost:8080/"
        },
        "id": "9DCrlQko3LNB",
        "outputId": "97324157-03ab-4bb4-b15f-bf465d69188a"
      },
      "source": [
        "count = 0\n",
        "for k, v in dictionary.iteritems():\n",
        "    print(k,v)\n",
        "    count +=1\n",
        "    if count>10:\n",
        "        break"
      ],
      "execution_count": null,
      "outputs": [
        {
          "output_type": "stream",
          "text": [
            "0 improv\n",
            "1 updat\n",
            "2 amazon\n",
            "3 backup\n",
            "4 batteri\n",
            "5 charger\n",
            "6 discharged.thi\n",
            "7 hell\n",
            "8 hour\n",
            "9 idl\n",
            "10 lenov\n"
          ],
          "name": "stdout"
        }
      ]
    },
    {
      "cell_type": "code",
      "metadata": {
        "id": "qBdt9_263LNB"
      },
      "source": [
        "dictionary.filter_extremes(no_below=15, no_above=0.1, keep_n=100000)"
      ],
      "execution_count": null,
      "outputs": []
    },
    {
      "cell_type": "code",
      "metadata": {
        "id": "hOnDV96T3LNC"
      },
      "source": [
        "bow_corpus = [dictionary.doc2bow(doc) for doc in filtered_tokens]\n",
        "\n",
        "document_num = 20\n",
        "bow_doc_x = bow_corpus[document_num]\n",
        "\n",
        "for i in range(len(bow_doc_x)):\n",
        "    print(\"Word {} (\\\"{}\\\") appears {} time.\".format(bow_doc_x[i][0],\n",
        "                                                    dictionary[bow_doc_x[i][0]],\n",
        "                                                    bow_doc_x[i][1]))"
      ],
      "execution_count": null,
      "outputs": []
    },
    {
      "cell_type": "code",
      "metadata": {
        "id": "CakATbFU3LNC"
      },
      "source": [
        "lda_model = gensim.models.LdaModel(bow_corpus,\n",
        "                                  num_topics=12,\n",
        "                                  id2word=dictionary,\n",
        "                                  passes=10)"
      ],
      "execution_count": null,
      "outputs": []
    },
    {
      "cell_type": "code",
      "metadata": {
        "id": "P29m8LEL3LNC"
      },
      "source": [
        "lda_model1 = gensim.models.LdaMulticore(bow_corpus,\n",
        "                                  num_topics=12,\n",
        "                                  id2word=dictionary,\n",
        "                                  passes=10,\n",
        "                                  workers=1)"
      ],
      "execution_count": null,
      "outputs": []
    },
    {
      "cell_type": "code",
      "metadata": {
        "id": "L69Of2Xi3LNC"
      },
      "source": [
        "lda_model2 = gensim.models.LdaMulticore(bow_corpus,\n",
        "                                  num_topics=12,\n",
        "                                  id2word=dictionary,\n",
        "                                  passes=10,\n",
        "                                  workers=2)"
      ],
      "execution_count": null,
      "outputs": []
    },
    {
      "cell_type": "code",
      "metadata": {
        "colab": {
          "base_uri": "https://localhost:8080/"
        },
        "id": "u7I1fxi63LNC",
        "outputId": "ec1dfeb7-0f57-4f86-cbe0-5192d4c2c720"
      },
      "source": [
        "for idx, topic in lda_model2.print_topics(-1):\n",
        "    print(\"Topic: {} \\nWords: {}\".format(idx, topic))\n",
        "    print(\"\\n\")"
      ],
      "execution_count": null,
      "outputs": [
        {
          "output_type": "stream",
          "text": [
            "Topic: 0 \n",
            "Words: 0.125*\"money\" + 0.098*\"servic\" + 0.083*\"worst\" + 0.058*\"wast\" + 0.049*\"valu\" + 0.048*\"lenovo\" + 0.030*\"center\" + 0.028*\"custom\" + 0.027*\"handset\" + 0.025*\"pleas\"\n",
            "\n",
            "\n",
            "Topic: 1 \n",
            "Words: 0.065*\"speaker\" + 0.055*\"call\" + 0.055*\"app\" + 0.037*\"sound\" + 0.031*\"record\" + 0.025*\"ram\" + 0.024*\"bad\" + 0.023*\"excel\" + 0.021*\"featur\" + 0.021*\"set\"\n",
            "\n",
            "\n",
            "Topic: 2 \n",
            "Words: 0.090*\"perform\" + 0.040*\"updat\" + 0.038*\"mode\" + 0.030*\"processor\" + 0.028*\"game\" + 0.027*\"android\" + 0.025*\"softwar\" + 0.022*\"depth\" + 0.019*\"super\" + 0.018*\"stock\"\n",
            "\n",
            "\n",
            "Topic: 3 \n",
            "Words: 0.211*\"lenovo\" + 0.196*\"note\" + 0.126*\"k8\" + 0.020*\"k4\" + 0.020*\"featur\" + 0.020*\"mi\" + 0.015*\"k5\" + 0.015*\"dolbi\" + 0.013*\"redmi\" + 0.013*\"atmo\"\n",
            "\n",
            "\n",
            "Topic: 4 \n",
            "Words: 0.066*\"great\" + 0.054*\"look\" + 0.044*\"worth\" + 0.043*\"power\" + 0.039*\"process\" + 0.039*\"touch\" + 0.035*\"hr\" + 0.033*\"photo\" + 0.032*\"galleri\" + 0.026*\"bill\"\n",
            "\n",
            "\n",
            "Topic: 5 \n",
            "Words: 0.110*\"issu\" + 0.087*\"network\" + 0.051*\"sim\" + 0.033*\"%\" + 0.030*\"call\" + 0.026*\"problem\" + 0.025*\"jio\" + 0.019*\"signal\" + 0.019*\"devic\" + 0.018*\"contact\"\n",
            "\n",
            "\n",
            "Topic: 6 \n",
            "Words: 0.205*\"qualiti\" + 0.147*\"price\" + 0.070*\"featur\" + 0.057*\"rang\" + 0.029*\"budget\" + 0.023*\"best\" + 0.022*\"smartphon\" + 0.022*\"perform\" + 0.019*\"front\" + 0.018*\"..\"\n",
            "\n",
            "\n",
            "Topic: 7 \n",
            "Words: 0.123*\"amazon\" + 0.096*\"time\" + 0.082*\"day\" + 0.061*\"hour\" + 0.040*\"deliveri\" + 0.031*\"experi\" + 0.031*\"return\" + 0.028*\"charg\" + 0.027*\"thank\" + 0.026*\"drain\"\n",
            "\n",
            "\n",
            "Topic: 8 \n",
            "Words: 0.165*\"heat\" + 0.065*\"problem\" + 0.065*\"issu\" + 0.044*\"devic\" + 0.037*\"option\" + 0.034*\"cast\" + 0.029*\"work\" + 0.029*\"screen\" + 0.026*\"expect\" + 0.026*\"bluetooth\"\n",
            "\n",
            "\n",
            "Topic: 9 \n",
            "Words: 0.315*\"problem\" + 0.258*\"nice\" + 0.169*\"backup\" + 0.046*\"life\" + 0.020*\"cost\" + 0.014*\"till\" + 0.011*\"thing\" + 0.010*\"month\" + 0.010*\"drain\" + 0.010*\"issu\"\n",
            "\n",
            "\n",
            "Topic: 10 \n",
            "Words: 0.127*\"awesom\" + 0.067*\"hai\" + 0.054*\"h\" + 0.047*\"earphon\" + 0.045*\"star\" + 0.038*\"everyth\" + 0.029*\"phone..\" + 0.026*\"ho\" + 0.025*\"class\" + 0.023*\"hi\"\n",
            "\n",
            "\n",
            "Topic: 11 \n",
            "Words: 0.097*\"charger\" + 0.064*\"screen\" + 0.061*\"charg\" + 0.051*\"turbo\" + 0.047*\"glass\" + 0.041*\"month\" + 0.030*\"superb\" + 0.030*\"poor\" + 0.029*\"box\" + 0.026*\"gorilla\"\n",
            "\n",
            "\n"
          ],
          "name": "stdout"
        }
      ]
    },
    {
      "cell_type": "markdown",
      "metadata": {
        "id": "Z279PKgA3LNC"
      },
      "source": [
        "## Accuracy check"
      ]
    },
    {
      "cell_type": "code",
      "metadata": {
        "colab": {
          "base_uri": "https://localhost:8080/"
        },
        "id": "-fP8kJxc3LNC",
        "outputId": "d4fc5c90-81f4-46d7-d4dd-283ceb8f44ba"
      },
      "source": [
        "from gensim.models import CoherenceModel\n",
        "coherence_model_lda = CoherenceModel(model=lda_model2,texts=filtered_tokens,dictionary=dictionary,coherence='c_v')\n",
        "\n",
        "coherence_lda=coherence_model_lda.get_coherence()\n",
        "\n",
        "print('\\nCoherence Score:', coherence_lda)"
      ],
      "execution_count": null,
      "outputs": [
        {
          "output_type": "stream",
          "text": [
            "\n",
            "Coherence Score: 0.5567012076335874\n"
          ],
          "name": "stdout"
        }
      ]
    },
    {
      "cell_type": "code",
      "metadata": {
        "id": "Pq5_fAG63LNC"
      },
      "source": [
        ""
      ],
      "execution_count": null,
      "outputs": []
    },
    {
      "cell_type": "code",
      "metadata": {
        "id": "gWXVtNaG3LNC"
      },
      "source": [
        ""
      ],
      "execution_count": null,
      "outputs": []
    },
    {
      "cell_type": "code",
      "metadata": {
        "id": "TNwf05bB3LND"
      },
      "source": [
        ""
      ],
      "execution_count": null,
      "outputs": []
    },
    {
      "cell_type": "code",
      "metadata": {
        "id": "zrbfGZmm3LND"
      },
      "source": [
        ""
      ],
      "execution_count": null,
      "outputs": []
    },
    {
      "cell_type": "code",
      "metadata": {
        "colab": {
          "base_uri": "https://localhost:8080/"
        },
        "id": "v-Jz7Co-3LND",
        "outputId": "bc4a1ef0-fc7c-4f7a-f30c-ec20ffd5de17"
      },
      "source": [
        "\n",
        "unseen_document = list(ds_test.iloc[:,1])\n",
        "print(unseen_document[0:5])\n",
        "print(len(unseen_document))"
      ],
      "execution_count": null,
      "outputs": [
        {
          "output_type": "stream",
          "text": [
            "['Really killer experience...', 'Heating a lot and want to return', 'Nice phone', 'Awesome product.a) good battery backupb) optimised performance along with 4 GB ram and octacore processorc) Dolby Atmos speakerd) overall a worthy phonee) awesome cameraHighly recommended to all who are comparing with xi red mi note 5 pro', 'Vary Nice product']\n",
            "2935\n"
          ],
          "name": "stdout"
        }
      ]
    },
    {
      "cell_type": "code",
      "metadata": {
        "id": "7pWFZzkC3LND"
      },
      "source": [
        "def preprocess(text):\n",
        "    #Punctuation removal\n",
        "    import re, string\n",
        "    nopunc_reviews=[]\n",
        "    for i in text:\n",
        "        result = re.sub('[%s]' % re.escape(string.punctuation),\n",
        "                        ' ', i)\n",
        "        nopunc_reviews.append(result)\n",
        "    #Tokenization\n",
        "    from nltk.tokenize import word_tokenize\n",
        "    tokens=[]\n",
        "\n",
        "    for token in nopunc_reviews:\n",
        "        tokens.append(word_tokenize(token))\n",
        "        \n",
        "    #POS tagging\n",
        "    pos_tokens=[]\n",
        "\n",
        "    for tag in tokens:\n",
        "        pos_tokens.append(nltk.pos_tag(tag))\n",
        "        \n",
        "    # Topic Modeling\n",
        "      ##Extracting Nouns\n",
        "        nouns =[]\n",
        "        noun_tokens=[]\n",
        "        index=[]\n",
        "        temp =0\n",
        "        count=0\n",
        "        i=0\n",
        "    while i<len(pos_tokens):\n",
        "        for word,pos in pos_tokens[i]:\n",
        "            if (pos == 'NN' or pos == 'NNP' or \n",
        "                pos == 'NNS' or pos == 'NNPS'):\n",
        "                nouns.append(word)\n",
        "                count+=1\n",
        "            \n",
        "        noun_tokens.append(nouns[temp:count])\n",
        "        temp=count\n",
        "        \n",
        "        i+=1\n",
        "        \n",
        "        ##Lemmatize and stemming\n",
        "    from nltk.stem import WordNetLemmatizer, SnowballStemmer\n",
        "    lemmatizer=WordNetLemmatizer()\n",
        "    stemmer=SnowballStemmer(\"english\")\n",
        "\n",
        "    lemma_stem = []\n",
        "    lemst_tokens=[]\n",
        "    temp=0\n",
        "    count=0\n",
        "\n",
        "    i=0\n",
        "    while i < (len(noun_tokens)):\n",
        "        for j in noun_tokens[i]:\n",
        "            lemma_stem.append(stemmer.stem(\n",
        "                lemmatizer.lemmatize(j,pos=\"n\")))\n",
        "            count+=1\n",
        "            \n",
        "        lemst_tokens.append(lemma_stem[temp:count])\n",
        "        temp=count\n",
        "        \n",
        "        i+=1\n",
        "        \n",
        "        \n",
        "        ##Stopwords\n",
        "        \n",
        "    from nltk.corpus import stopwords\n",
        "    stop_words = set(stopwords.words(\"english\"))\n",
        "\n",
        "\n",
        "    filtered_tokens=[]\n",
        "\n",
        "    result=[]\n",
        "    for i in lemst_tokens:\n",
        "        output = [j for j in i if not j in stop_words]\n",
        "        filtered_tokens.append(output)\n",
        "        \n",
        "        \n",
        "    return filtered_tokens\n",
        "    \n",
        "        \n",
        "        \n"
      ],
      "execution_count": null,
      "outputs": []
    },
    {
      "cell_type": "code",
      "metadata": {
        "colab": {
          "base_uri": "https://localhost:8080/",
          "height": 301
        },
        "id": "efF3kfsq3LND",
        "outputId": "d1e5128b-bbc8-44ab-cf78-426bda71455e"
      },
      "source": [
        "bow_vector = dictionary.doc2bow(preprocess(unseen_document))"
      ],
      "execution_count": null,
      "outputs": [
        {
          "output_type": "error",
          "ename": "TypeError",
          "evalue": "ignored",
          "traceback": [
            "\u001b[0;31m---------------------------------------------------------------------------\u001b[0m",
            "\u001b[0;31mTypeError\u001b[0m                                 Traceback (most recent call last)",
            "\u001b[0;32m<ipython-input-42-92f48849a229>\u001b[0m in \u001b[0;36m<module>\u001b[0;34m()\u001b[0m\n\u001b[0;32m----> 1\u001b[0;31m \u001b[0mbow_vector\u001b[0m \u001b[0;34m=\u001b[0m \u001b[0mdictionary\u001b[0m\u001b[0;34m.\u001b[0m\u001b[0mdoc2bow\u001b[0m\u001b[0;34m(\u001b[0m\u001b[0mpreprocess\u001b[0m\u001b[0;34m(\u001b[0m\u001b[0munseen_document\u001b[0m\u001b[0;34m)\u001b[0m\u001b[0;34m)\u001b[0m\u001b[0;34m\u001b[0m\u001b[0;34m\u001b[0m\u001b[0m\n\u001b[0m",
            "\u001b[0;32m/usr/local/lib/python3.6/dist-packages/gensim/corpora/dictionary.py\u001b[0m in \u001b[0;36mdoc2bow\u001b[0;34m(self, document, allow_update, return_missing)\u001b[0m\n\u001b[1;32m    243\u001b[0m         \u001b[0mcounter\u001b[0m \u001b[0;34m=\u001b[0m \u001b[0mdefaultdict\u001b[0m\u001b[0;34m(\u001b[0m\u001b[0mint\u001b[0m\u001b[0;34m)\u001b[0m\u001b[0;34m\u001b[0m\u001b[0;34m\u001b[0m\u001b[0m\n\u001b[1;32m    244\u001b[0m         \u001b[0;32mfor\u001b[0m \u001b[0mw\u001b[0m \u001b[0;32min\u001b[0m \u001b[0mdocument\u001b[0m\u001b[0;34m:\u001b[0m\u001b[0;34m\u001b[0m\u001b[0;34m\u001b[0m\u001b[0m\n\u001b[0;32m--> 245\u001b[0;31m             \u001b[0mcounter\u001b[0m\u001b[0;34m[\u001b[0m\u001b[0mw\u001b[0m \u001b[0;32mif\u001b[0m \u001b[0misinstance\u001b[0m\u001b[0;34m(\u001b[0m\u001b[0mw\u001b[0m\u001b[0;34m,\u001b[0m \u001b[0municode\u001b[0m\u001b[0;34m)\u001b[0m \u001b[0;32melse\u001b[0m \u001b[0municode\u001b[0m\u001b[0;34m(\u001b[0m\u001b[0mw\u001b[0m\u001b[0;34m,\u001b[0m \u001b[0;34m'utf-8'\u001b[0m\u001b[0;34m)\u001b[0m\u001b[0;34m]\u001b[0m \u001b[0;34m+=\u001b[0m \u001b[0;36m1\u001b[0m\u001b[0;34m\u001b[0m\u001b[0;34m\u001b[0m\u001b[0m\n\u001b[0m\u001b[1;32m    246\u001b[0m \u001b[0;34m\u001b[0m\u001b[0m\n\u001b[1;32m    247\u001b[0m         \u001b[0mtoken2id\u001b[0m \u001b[0;34m=\u001b[0m \u001b[0mself\u001b[0m\u001b[0;34m.\u001b[0m\u001b[0mtoken2id\u001b[0m\u001b[0;34m\u001b[0m\u001b[0;34m\u001b[0m\u001b[0m\n",
            "\u001b[0;31mTypeError\u001b[0m: decoding to str: need a bytes-like object, list found"
          ]
        }
      ]
    },
    {
      "cell_type": "code",
      "metadata": {
        "id": "NlEL9rUS3LNE"
      },
      "source": [
        "def preprocess(text):\n",
        "    #Punctuation removal\n",
        "    import re, string\n",
        "    nopunc_reviews=[]\n",
        "    for i in reviews:\n",
        "        result = re.sub('[%s]' % re.escape(string.punctuation),\n",
        "                        ' ', i)\n",
        "        nopunc_reviews.append(result)\n",
        "    #Tokenization\n",
        "    from nltk.tokenize import word_tokenize\n",
        "    tokens=[]\n",
        "\n",
        "    for token in nopunc_reviews:\n",
        "        tokens.append(word_tokenize(token))\n",
        "        \n",
        "    #POS tagging\n",
        "    pos_tokens=[]\n",
        "\n",
        "    for tag in tokens:\n",
        "        pos_tokens.append(nltk.pos_tag(tag))\n",
        "        \n",
        "    # Topic Modeling\n",
        "      ##Extracting Nouns\n",
        "        nouns =[]\n",
        "        noun_tokens=[]\n",
        "        index=[]\n",
        "        temp =0\n",
        "        count=0\n",
        "        i=0\n",
        "    while i<len(pos_tokens):\n",
        "        for word,pos in pos_tokens[i]:\n",
        "            if (pos == 'NN' or pos == 'NNP' or \n",
        "                pos == 'NNS' or pos == 'NNPS'):\n",
        "                nouns.append(word)\n",
        "                count+=1\n",
        "            \n",
        "        noun_tokens.append(nouns[temp:count])\n",
        "        temp=count\n",
        "        \n",
        "        i+=1\n",
        "        \n",
        "        ##Lemmatize and stemming\n",
        "    from nltk.stem import WordNetLemmatizer, SnowballStemmer\n",
        "    lemmatizer=WordNetLemmatizer()\n",
        "    stemmer=SnowballStemmer(\"english\")\n",
        "\n",
        "    lemma_stem = []\n",
        "    lemst_tokens=[]\n",
        "    temp=0\n",
        "    count=0\n",
        "\n",
        "    i=0\n",
        "    while i < (len(noun_tokens)):\n",
        "        for j in noun_tokens[i]:\n",
        "            lemma_stem.append(stemmer.stem(\n",
        "                lemmatizer.lemmatize(j,pos=\"n\")))\n",
        "            count+=1\n",
        "            \n",
        "        lemst_tokens.append(lemma_stem[temp:count])\n",
        "        temp=count\n",
        "        \n",
        "        i+=1\n",
        "        \n",
        "        \n",
        "        ##Stopwords\n",
        "        \n",
        "    from nltk.corpus import stopwords\n",
        "    stop_words = set(stopwords.words(\"english\"))\n",
        "\n",
        "\n",
        "    filtered_tokens=[]\n",
        "\n",
        "    result=[]\n",
        "    for i in lemst_tokens:\n",
        "        output = [j for j in i if not j in stop_words]\n",
        "        filtered_tokens.append(output)\n",
        "        \n",
        "        \n",
        "    return filtered_tokens\n",
        "    \n",
        "        \n",
        "        \n"
      ],
      "execution_count": null,
      "outputs": []
    },
    {
      "cell_type": "code",
      "metadata": {
        "id": "vdpSQ56w3LNE"
      },
      "source": [
        "for index, score in sorted(lda_model[bow_vector], key=lambda)"
      ],
      "execution_count": null,
      "outputs": []
    },
    {
      "cell_type": "code",
      "metadata": {
        "id": "UP3PyQJq3LNE"
      },
      "source": [
        ""
      ],
      "execution_count": null,
      "outputs": []
    }
  ]
}